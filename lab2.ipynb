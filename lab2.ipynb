{
  "nbformat": 4,
  "nbformat_minor": 0,
  "metadata": {
    "colab": {
      "provenance": [],
      "gpuType": "T4",
      "include_colab_link": true
    },
    "kernelspec": {
      "name": "python3",
      "display_name": "Python 3"
    },
    "language_info": {
      "name": "python"
    },
    "accelerator": "GPU"
  },
  "cells": [
    {
      "cell_type": "markdown",
      "metadata": {
        "id": "view-in-github",
        "colab_type": "text"
      },
      "source": [
        "<a href=\"https://colab.research.google.com/github/SanDar1/Biba-spizdil-ur-stul/blob/master/lab2.ipynb\" target=\"_parent\"><img src=\"https://colab.research.google.com/assets/colab-badge.svg\" alt=\"Open In Colab\"/></a>"
      ]
    },
    {
      "cell_type": "code",
      "source": [
        "import pandas as pd\n",
        "import numpy as np\n",
        "import matplotlib.pyplot as plt"
      ],
      "metadata": {
        "id": "ydkGct_R2mau"
      },
      "execution_count": 1,
      "outputs": []
    },
    {
      "cell_type": "code",
      "source": [
        "from google.colab import drive\n",
        "drive.mount('/content/drive')"
      ],
      "metadata": {
        "id": "SZIRNmyC4tCM"
      },
      "execution_count": null,
      "outputs": []
    },
    {
      "cell_type": "code",
      "source": [
        "!ls \"/content/drive/My Drive/\""
      ],
      "metadata": {
        "id": "bnFNHHg-7HV-"
      },
      "execution_count": null,
      "outputs": []
    },
    {
      "cell_type": "code",
      "source": [
        "data = pd.read_csv(\"/content/drive/My Drive/cities_air_quality_water_pollution.18-10-2021.csv\")"
      ],
      "metadata": {
        "id": "5n4CdC2e4FEK"
      },
      "execution_count": null,
      "outputs": []
    },
    {
      "cell_type": "code",
      "source": [
        "data.isnull().any()"
      ],
      "metadata": {
        "id": "M9Y2iSNd9m8I"
      },
      "execution_count": null,
      "outputs": []
    },
    {
      "cell_type": "code",
      "source": [
        "data.describe()"
      ],
      "metadata": {
        "id": "DXwIpf_p-Cqj"
      },
      "execution_count": null,
      "outputs": []
    },
    {
      "cell_type": "code",
      "source": [
        "data[' \"WaterPollution\"'].hist()"
      ],
      "metadata": {
        "id": "_9w1K6Re_KDC"
      },
      "execution_count": null,
      "outputs": []
    },
    {
      "cell_type": "code",
      "source": [
        "x = data.loc[:, [' \"WaterPollution\"',\t' \"AirQuality\"']].values"
      ],
      "metadata": {
        "id": "ojG6VT-wAJd-"
      },
      "execution_count": null,
      "outputs": []
    },
    {
      "cell_type": "code",
      "source": [
        "from sklearn.cluster import KMeans\n",
        "wcss = []\n",
        "for i in range(1,11):\n",
        "  kmeans = KMeans(n_clusters=i, init = 'k-means++').fit(x)\n",
        "  wcss.append(kmeans.inertia_)\n",
        "plt.plot(wcss, range(1,11))"
      ],
      "metadata": {
        "id": "spl-tw9BBsXR"
      },
      "execution_count": null,
      "outputs": []
    },
    {
      "cell_type": "code",
      "source": [
        "from sklearn.cluster import AgglomerativeClustering\n",
        "\n",
        "hc = AgglomerativeClustering(n_clusters=3,affinity='euclidean',linkage='ward')\n",
        "y_hc = hc.fit_predict(x)\n",
        "\n",
        "plt.scatter(x[y_hc == 0, 0], x[y_hc == 0, 1], s = 100, c = 'orange')\n",
        "plt.scatter(x[y_hc == 1, 0], x[y_hc == 1, 1], s = 100, c = 'red')\n",
        "plt.scatter(x[y_hc == 2, 0], x[y_hc == 2, 1], s = 100, c = 'lightgreen')\n",
        "plt.scatter(x[y_hc == 3, 0], x[y_hc == 3, 1], s = 100, c = 'darkred')\n",
        "plt.scatter(kmeans.cluster_centers_[:3,0], kmeans.cluster_centers_[:3, 1], s = 50, c = 'indigo')\n",
        "\n",
        "plt.style.use('fivethirtyeight')\n",
        "plt.title('Иерархическая кластеризация', fontsize = 20)\n",
        "plt.xlabel('Загрязнённость воды')\n",
        "plt.ylabel('Чистота воздуха')\n",
        "plt.legend()\n",
        "plt.grid()\n",
        "plt.show()"
      ],
      "metadata": {
        "id": "Z-iRbZd2FOI-"
      },
      "execution_count": null,
      "outputs": []
    }
  ]
}